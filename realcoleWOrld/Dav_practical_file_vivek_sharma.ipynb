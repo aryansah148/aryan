{
  "nbformat": 4,
  "nbformat_minor": 0,
  "metadata": {
    "colab": {
      "provenance": []
    },
    "kernelspec": {
      "name": "python3",
      "display_name": "Python 3"
    },
    "language_info": {
      "name": "python"
    }
  },
  "cells": [
    {
      "cell_type": "code",
      "execution_count": null,
      "metadata": {
        "id": "8yGtEwrZExYS"
      },
      "outputs": [],
      "source": []
    },
    {
      "cell_type": "markdown",
      "source": [
        "Vivek sharma\n",
        "2k21/CS/111\n",
        "DAV PRACTICAL FILE"
      ],
      "metadata": {
        "id": "HIQbs8cME7mx"
      }
    },
    {
      "cell_type": "markdown",
      "source": [
        "1. Given below is a dictionary having two keys ‘Boys’ and ‘Girls’ and having two lists of heights of five Boys and\n",
        "Five Girls respectively as values associated with these keys\n",
        "Original dictionary of lists:\n",
        "\n",
        "{'Boys': [72, 68, 70, 69, 74], 'Girls': [63, 65, 69, 62, 61]}\n",
        "\n",
        "From the given dictionary of lists create the following list of dictionaries:\n",
        "\n",
        "[{'Boys': 72, 'Girls': 63}, {'Boys': 68, 'Girls': 65}, {'Boys': 70, 'Girls': 69}, {'Boys': 69, 'Girls': 62}, {‘Boys’:74,\n",
        "‘Girls’:61]\n"
      ],
      "metadata": {
        "id": "CWOFAXd8FnCD"
      }
    },
    {
      "cell_type": "code",
      "source": [
        "original_dictionary = {'Boys': [72, 68, 70, 69, 74], 'Girls': [63, 65, 69, 62, 61]}\n",
        "result_list = []\n",
        "\n",
        "boy_list = original_dictionary['Boys']\n",
        "girl_list = original_dictionary['Girls']\n",
        "\n",
        "for i in range(len(boy_list)):\n",
        "    boy = boy_list[i]\n",
        "    girl = girl_list[i]\n",
        "    result_list.append({'Boys': boy, 'Girls': girl})\n",
        "\n",
        "print(result_list)\n"
      ],
      "metadata": {
        "colab": {
          "base_uri": "https://localhost:8080/"
        },
        "id": "-SyH6_wmFlk5",
        "outputId": "fc2591cd-7085-41e2-c8c5-74ed28f232e2"
      },
      "execution_count": null,
      "outputs": [
        {
          "output_type": "stream",
          "name": "stdout",
          "text": [
            "[{'Boys': 72, 'Girls': 63}, {'Boys': 68, 'Girls': 65}, {'Boys': 70, 'Girls': 69}, {'Boys': 69, 'Girls': 62}, {'Boys': 74, 'Girls': 61}]\n"
          ]
        }
      ]
    },
    {
      "cell_type": "markdown",
      "source": [
        "2. Write programs in Python using NumPy library to do the following:\n",
        "\n",
        "a. Compute the mean, standard deviation, and variance of a two dimensional random integer array along the second axis.\n",
        "\n",
        "b. Get the indices of the sorted elements of a given array.\n",
        "a. B = [56, 48, 22, 41, 78, 91, 24, 46, 8, 33]\n",
        "\n",
        "c. Create a 2-dimensional array of size m x n integer elements, also print the shape, type\n",
        "and data type of the array and then reshape it into nx m array, n and m are user inputs\n",
        "given at the run time.\n",
        "\n",
        "d. Test whether the elements of a given array are zero, non-zero and NaN. Record the\n",
        "indices of these elements in three separate arrays."
      ],
      "metadata": {
        "id": "h6rT7n7xHya8"
      }
    },
    {
      "cell_type": "code",
      "source": [
        "#a\n",
        "import numpy as np\n",
        "\n",
        "#random 2D array\n",
        "random_array = np.random.randint(1, 100, size=(5, 5))\n",
        "\n",
        "#mean along the second axis (axis=1)\n",
        "mean_values = np.mean(random_array, axis=1)\n",
        "\n",
        "# standard deviation along the second axis (axis=1)\n",
        "std_dev_values = np.std(random_array, axis=1)\n",
        "\n",
        "#variance along the second axis (axis=1)\n",
        "variance_values = np.var(random_array, axis=1)\n",
        "\n",
        "print(\"Original 2D Array:\")\n",
        "print(random_array)\n",
        "print(\"\\nMean along the second axis:\", mean_values)\n",
        "print(\"\\nStandard Deviation along the second axis:\", std_dev_values)\n",
        "print(\"\\nVariance along the second axis:\",variance_values)\n"
      ],
      "metadata": {
        "colab": {
          "base_uri": "https://localhost:8080/"
        },
        "id": "epGRvCNVHio3",
        "outputId": "f193e8e8-66f0-4871-8003-0a8907fbb1a5"
      },
      "execution_count": null,
      "outputs": [
        {
          "output_type": "stream",
          "name": "stdout",
          "text": [
            "Original 2D Array:\n",
            "[[75 46 63 50  5]\n",
            " [44 81 84 92 77]\n",
            " [90 37 64 85 38]\n",
            " [ 8 68 67 78 52]\n",
            " [20 57 91 98 69]]\n",
            "\n",
            "Mean along the second axis: [47.8 75.6 62.8 54.6 67. ]\n",
            "\n",
            "Standard Deviation along the second axis: [23.70991354 16.54811167 22.42676972 24.73539973 27.74887385]\n",
            "\n",
            "Variance along the second axis: [562.16 273.84 502.96 611.84 770.  ]\n"
          ]
        }
      ]
    },
    {
      "cell_type": "markdown",
      "source": [
        "HI"
      ],
      "metadata": {
        "id": "_gRXUBUPOnXf"
      }
    },
    {
      "cell_type": "code",
      "source": [
        "#b\n",
        "import numpy as np\n",
        "\n",
        "#random array\n",
        "original_array = np.array([10, 5, 8, 1, 7])\n",
        "\n",
        "print(\"Original Array:\",original_array)\n",
        "print()\n",
        "print(\"Indices of the Sorted Elements:\",np.argsort(original_array))#indices of the sorted elements\n"
      ],
      "metadata": {
        "colab": {
          "base_uri": "https://localhost:8080/"
        },
        "id": "epjFxnYqIkQM",
        "outputId": "3651383a-4304-4432-cd7b-36ee04b027a7"
      },
      "execution_count": null,
      "outputs": [
        {
          "output_type": "stream",
          "name": "stdout",
          "text": [
            "Original Array: [10  5  8  1  7]\n",
            "\n",
            "Indices of the Sorted Elements: [3 1 4 2 0]\n"
          ]
        }
      ]
    },
    {
      "cell_type": "code",
      "source": [
        "#c\n",
        "import numpy as np\n",
        "\n",
        "# user inputs for m and n\n",
        "m = int(input(\"Enter the number of rows (m): \"))\n",
        "n = int(input(\"Enter the number of columns (n): \"))\n",
        "\n",
        "#2D array of size m x n with random integer elements\n",
        "original_array = np.random.randint(1, 100, size=(m, n))\n",
        "\n",
        "print(\"\\nOriginal Array:\")\n",
        "print(original_array)\n",
        "\n",
        "print(\"\\nShape of the Array:\", original_array.shape)\n",
        "print(\"Type of the Array:\", type(original_array))\n",
        "print(\"Data Type of the Array:\", original_array.dtype)\n",
        "\n",
        "# Reshape the array into an nxm array\n",
        "reshaped_array = original_array.reshape((n, m))\n",
        "\n",
        "print(\"\\nReshaped Array:\")\n",
        "print(reshaped_array)\n",
        "\n",
        "print(\"\\nShape of the Reshaped Array:\", reshaped_array.shape)\n",
        "print(\"Type of the Reshaped Array:\", type(reshaped_array))\n",
        "print(\"Data Type of the Reshaped Array:\", reshaped_array.dtype)\n"
      ],
      "metadata": {
        "colab": {
          "base_uri": "https://localhost:8080/"
        },
        "id": "dsVKIFXnJnCK",
        "outputId": "a3c22dee-242a-490b-fcd8-ed215a2ae3c1"
      },
      "execution_count": null,
      "outputs": [
        {
          "output_type": "stream",
          "name": "stdout",
          "text": [
            "Enter the number of rows (m): 3\n",
            "Enter the number of columns (n): 3\n",
            "\n",
            "Original Array:\n",
            "[[64 16 99]\n",
            " [77 47 85]\n",
            " [33 80 92]]\n",
            "\n",
            "Shape of the Array: (3, 3)\n",
            "Type of the Array: <class 'numpy.ndarray'>\n",
            "Data Type of the Array: int64\n",
            "\n",
            "Reshaped Array:\n",
            "[[64 16 99]\n",
            " [77 47 85]\n",
            " [33 80 92]]\n",
            "\n",
            "Shape of the Reshaped Array: (3, 3)\n",
            "Type of the Reshaped Array: <class 'numpy.ndarray'>\n",
            "Data Type of the Reshaped Array: int64\n"
          ]
        }
      ]
    },
    {
      "cell_type": "code",
      "source": [
        "#d\n",
        "import numpy as np\n",
        "\n",
        "#array with some zeros, non-zeros, and NaN values\n",
        "sample_array = np.array([1, 0, 5, 0, np.nan, 3, 0])\n",
        "\n",
        "# Test whether the elements are zero, non-zero, or NaN\n",
        "zero_indices = np.where(sample_array == 0)[0]\n",
        "non_zero_indices = np.where(sample_array != 0)[0]\n",
        "nan_indices = np.where(np.isnan(sample_array))[0]\n",
        "\n",
        "# original array\n",
        "print(\"Original Array:\")\n",
        "print(sample_array)\n",
        "\n",
        "# indices of zero, non-zero, and NaN elements\n",
        "print(\"\\nIndices of Zero Elements:\", zero_indices)\n",
        "print(\"Indices of Non-Zero Elements:\", non_zero_indices)\n",
        "print(\"Indices of NaN Elements:\", nan_indices)\n"
      ],
      "metadata": {
        "colab": {
          "base_uri": "https://localhost:8080/"
        },
        "id": "flgKiR3xKeho",
        "outputId": "e89656f4-ee2e-4099-ece8-dfc992b1e786"
      },
      "execution_count": null,
      "outputs": [
        {
          "output_type": "stream",
          "name": "stdout",
          "text": [
            "Original Array:\n",
            "[ 1.  0.  5.  0. nan  3.  0.]\n",
            "\n",
            "Indices of Zero Elements: [1 3 6]\n",
            "Indices of Non-Zero Elements: [0 2 4 5]\n",
            "Indices of NaN Elements: [4]\n"
          ]
        }
      ]
    },
    {
      "cell_type": "markdown",
      "source": [
        "3. Create a dataframe having at least 3 columns and 50 rows to store numeric data generated using a random\n",
        "function. Replace 10% of the values by null values whose index positions are generated using random function.\n",
        "Do the following:\n",
        "\n",
        "a. Identify and count missing values in a dataframe.\n",
        "\n",
        "b. Drop the column having more than 5 null values.\n",
        "\n",
        "c. Identify the row label having maximum of the sum of all values in a row and drop that row.\n",
        "\n",
        "d. Sort the dataframe on the basis of the first column.\n",
        "\n",
        "e. Remove all duplicates from the first column.\n",
        "\n",
        "f. Find the correlation between first and second column and covariance between second and third\n",
        "column.\n",
        "\n",
        "g. Detect the outliers and remove the rows having outliers.\n",
        "\n",
        "h. Discretize second column and create 5 bins"
      ],
      "metadata": {
        "id": "DC_DOcLONf4w"
      }
    },
    {
      "cell_type": "code",
      "source": [
        "import pandas as pd\n",
        "import numpy as np\n",
        "\n",
        "# Create a dataframe with random numeric data\n",
        "data = {'Column1': np.random.rand(50), 'Column2': np.random.rand(50), 'Column3': np.random.rand(50)}\n",
        "df = pd.DataFrame(data)\n",
        "\n",
        "#nan values\n",
        "nan_positions = np.random.choice(df.size, size=int(0.1 * df.size), replace=False)\n",
        "df.values.flat[nan_positions] = np.nan\n",
        "print(df)"
      ],
      "metadata": {
        "colab": {
          "base_uri": "https://localhost:8080/"
        },
        "id": "0f_I4EEYMhlH",
        "outputId": "8d51ffc3-989f-4be5-c13f-b2c47ba79b71"
      },
      "execution_count": null,
      "outputs": [
        {
          "output_type": "stream",
          "name": "stdout",
          "text": [
            "     Column1   Column2   Column3\n",
            "0   0.204883  0.341727  0.829721\n",
            "1   0.129652  0.051261  0.680567\n",
            "2   0.299747  0.478717  0.980622\n",
            "3   0.095470  0.478395       NaN\n",
            "4   0.168378  0.557170  0.489537\n",
            "5        NaN  0.648975  0.476433\n",
            "6   0.670654  0.625164  0.132360\n",
            "7   0.404118  0.951634  0.493831\n",
            "8   0.179746  0.661873  0.880335\n",
            "9   0.155636       NaN  0.802028\n",
            "10  0.672448  0.183225  0.752738\n",
            "11  0.104278  0.706917  0.962627\n",
            "12  0.804026  0.686420  0.664571\n",
            "13       NaN  0.109630  0.404500\n",
            "14  0.234977       NaN  0.015129\n",
            "15  0.567145  0.783945  0.919883\n",
            "16  0.524563  0.853662  0.141395\n",
            "17  0.321646  0.192926  0.220307\n",
            "18  0.549075  0.257612  0.046061\n",
            "19  0.104882  0.320401  0.891519\n",
            "20  0.066517  0.779173  0.374544\n",
            "21  0.303940  0.345172       NaN\n",
            "22  0.754564  0.422554  0.912640\n",
            "23  0.883875  0.779802  0.046368\n",
            "24  0.425202  0.106107  0.143856\n",
            "25  0.984476  0.909095  0.266424\n",
            "26  0.579010  0.739792  0.043529\n",
            "27       NaN  0.730678  0.766069\n",
            "28  0.349484  0.408327  0.290952\n",
            "29  0.546843  0.863793  0.437292\n",
            "30  0.406155  0.930275  0.166535\n",
            "31  0.981236       NaN  0.488671\n",
            "32  0.052093       NaN  0.066741\n",
            "33  0.661784  0.126078  0.625256\n",
            "34  0.426031  0.138184  0.267991\n",
            "35  0.598783  0.721034  0.961867\n",
            "36       NaN  0.018146  0.504485\n",
            "37  0.585886  0.171073  0.153889\n",
            "38  0.625366  0.894839       NaN\n",
            "39  0.149916  0.698195  0.850444\n",
            "40  0.423678  0.973172       NaN\n",
            "41  0.762205       NaN  0.245951\n",
            "42  0.100548  0.373563  0.137621\n",
            "43  0.812705  0.773458       NaN\n",
            "44  0.505826  0.467765  0.532039\n",
            "45       NaN  0.679038  0.676812\n",
            "46  0.515780  0.782208  0.276004\n",
            "47  0.913128  0.736072  0.363037\n",
            "48  0.211626  0.081395  0.734220\n",
            "49  0.967605  0.559485  0.105401\n"
          ]
        }
      ]
    },
    {
      "cell_type": "code",
      "source": [
        "#a\n",
        "missing_values_count = df.isnull().sum()\n",
        "print(\"a. Missing Values Count:\")\n",
        "print(missing_values_count)"
      ],
      "metadata": {
        "colab": {
          "base_uri": "https://localhost:8080/"
        },
        "id": "bAm6sXLUO5Dk",
        "outputId": "e68b8345-f0e8-44e1-ae92-0bd3f7b82d70"
      },
      "execution_count": null,
      "outputs": [
        {
          "output_type": "stream",
          "name": "stdout",
          "text": [
            "a. Missing Values Count:\n",
            "Column1    5\n",
            "Column2    5\n",
            "Column3    5\n",
            "dtype: int64\n"
          ]
        }
      ]
    },
    {
      "cell_type": "code",
      "source": [
        "#b\n",
        "df = df.dropna(axis=1, thresh=df.shape[0] - 5)\n",
        "print(\"\\nb. DataFrame after dropping columns:\")\n",
        "print(df)"
      ],
      "metadata": {
        "colab": {
          "base_uri": "https://localhost:8080/"
        },
        "id": "jDfjp13jPM71",
        "outputId": "f5da962b-7c6f-4cfe-f4a8-ef4316ce66b0"
      },
      "execution_count": null,
      "outputs": [
        {
          "output_type": "stream",
          "name": "stdout",
          "text": [
            "\n",
            "b. DataFrame after dropping columns:\n",
            "     Column1   Column2   Column3\n",
            "0   0.204883  0.341727  0.829721\n",
            "1   0.129652  0.051261  0.680567\n",
            "2   0.299747  0.478717  0.980622\n",
            "3   0.095470  0.478395       NaN\n",
            "4   0.168378  0.557170  0.489537\n",
            "5        NaN  0.648975  0.476433\n",
            "6   0.670654  0.625164  0.132360\n",
            "7   0.404118  0.951634  0.493831\n",
            "8   0.179746  0.661873  0.880335\n",
            "9   0.155636       NaN  0.802028\n",
            "10  0.672448  0.183225  0.752738\n",
            "11  0.104278  0.706917  0.962627\n",
            "12  0.804026  0.686420  0.664571\n",
            "13       NaN  0.109630  0.404500\n",
            "14  0.234977       NaN  0.015129\n",
            "15  0.567145  0.783945  0.919883\n",
            "16  0.524563  0.853662  0.141395\n",
            "17  0.321646  0.192926  0.220307\n",
            "18  0.549075  0.257612  0.046061\n",
            "19  0.104882  0.320401  0.891519\n",
            "20  0.066517  0.779173  0.374544\n",
            "21  0.303940  0.345172       NaN\n",
            "22  0.754564  0.422554  0.912640\n",
            "23  0.883875  0.779802  0.046368\n",
            "24  0.425202  0.106107  0.143856\n",
            "25  0.984476  0.909095  0.266424\n",
            "26  0.579010  0.739792  0.043529\n",
            "27       NaN  0.730678  0.766069\n",
            "28  0.349484  0.408327  0.290952\n",
            "29  0.546843  0.863793  0.437292\n",
            "30  0.406155  0.930275  0.166535\n",
            "31  0.981236       NaN  0.488671\n",
            "32  0.052093       NaN  0.066741\n",
            "33  0.661784  0.126078  0.625256\n",
            "34  0.426031  0.138184  0.267991\n",
            "35  0.598783  0.721034  0.961867\n",
            "36       NaN  0.018146  0.504485\n",
            "37  0.585886  0.171073  0.153889\n",
            "38  0.625366  0.894839       NaN\n",
            "39  0.149916  0.698195  0.850444\n",
            "40  0.423678  0.973172       NaN\n",
            "41  0.762205       NaN  0.245951\n",
            "42  0.100548  0.373563  0.137621\n",
            "43  0.812705  0.773458       NaN\n",
            "44  0.505826  0.467765  0.532039\n",
            "45       NaN  0.679038  0.676812\n",
            "46  0.515780  0.782208  0.276004\n",
            "47  0.913128  0.736072  0.363037\n",
            "48  0.211626  0.081395  0.734220\n",
            "49  0.967605  0.559485  0.105401\n"
          ]
        }
      ]
    },
    {
      "cell_type": "code",
      "source": [
        "#c\n",
        "max_sum_row_label = df.sum(axis=1).idxmax()\n",
        "df = df.drop(index=max_sum_row_label)\n",
        "print(\"\\nc. DataFrame after dropping row with maximum sum:\")\n",
        "print(df)"
      ],
      "metadata": {
        "colab": {
          "base_uri": "https://localhost:8080/"
        },
        "id": "SdQ9jwrlRplE",
        "outputId": "1ec6f57a-c504-4163-ea0a-51cd915f7bdf"
      },
      "execution_count": null,
      "outputs": [
        {
          "output_type": "stream",
          "name": "stdout",
          "text": [
            "\n",
            "c. DataFrame after dropping row with maximum sum:\n",
            "     Column1   Column2   Column3\n",
            "0   0.204883  0.341727  0.829721\n",
            "1   0.129652  0.051261  0.680567\n",
            "2   0.299747  0.478717  0.980622\n",
            "3   0.095470  0.478395       NaN\n",
            "4   0.168378  0.557170  0.489537\n",
            "5        NaN  0.648975  0.476433\n",
            "6   0.670654  0.625164  0.132360\n",
            "7   0.404118  0.951634  0.493831\n",
            "8   0.179746  0.661873  0.880335\n",
            "9   0.155636       NaN  0.802028\n",
            "10  0.672448  0.183225  0.752738\n",
            "11  0.104278  0.706917  0.962627\n",
            "12  0.804026  0.686420  0.664571\n",
            "13       NaN  0.109630  0.404500\n",
            "14  0.234977       NaN  0.015129\n",
            "15  0.567145  0.783945  0.919883\n",
            "16  0.524563  0.853662  0.141395\n",
            "17  0.321646  0.192926  0.220307\n",
            "18  0.549075  0.257612  0.046061\n",
            "19  0.104882  0.320401  0.891519\n",
            "20  0.066517  0.779173  0.374544\n",
            "21  0.303940  0.345172       NaN\n",
            "22  0.754564  0.422554  0.912640\n",
            "23  0.883875  0.779802  0.046368\n",
            "24  0.425202  0.106107  0.143856\n",
            "25  0.984476  0.909095  0.266424\n",
            "26  0.579010  0.739792  0.043529\n",
            "27       NaN  0.730678  0.766069\n",
            "28  0.349484  0.408327  0.290952\n",
            "29  0.546843  0.863793  0.437292\n",
            "30  0.406155  0.930275  0.166535\n",
            "31  0.981236       NaN  0.488671\n",
            "32  0.052093       NaN  0.066741\n",
            "33  0.661784  0.126078  0.625256\n",
            "34  0.426031  0.138184  0.267991\n",
            "36       NaN  0.018146  0.504485\n",
            "37  0.585886  0.171073  0.153889\n",
            "38  0.625366  0.894839       NaN\n",
            "39  0.149916  0.698195  0.850444\n",
            "40  0.423678  0.973172       NaN\n",
            "41  0.762205       NaN  0.245951\n",
            "42  0.100548  0.373563  0.137621\n",
            "43  0.812705  0.773458       NaN\n",
            "44  0.505826  0.467765  0.532039\n",
            "45       NaN  0.679038  0.676812\n",
            "46  0.515780  0.782208  0.276004\n",
            "47  0.913128  0.736072  0.363037\n",
            "48  0.211626  0.081395  0.734220\n",
            "49  0.967605  0.559485  0.105401\n"
          ]
        }
      ]
    },
    {
      "cell_type": "code",
      "source": [
        "#c\n",
        "print(\"Column names:\", df.columns)"
      ],
      "metadata": {
        "colab": {
          "base_uri": "https://localhost:8080/"
        },
        "id": "pJisL088RxU6",
        "outputId": "91371470-072d-4776-bd66-f5b347b2a5c5"
      },
      "execution_count": null,
      "outputs": [
        {
          "output_type": "stream",
          "name": "stdout",
          "text": [
            "Column names: Index(['Column1', 'Column2', 'Column3'], dtype='object')\n"
          ]
        }
      ]
    },
    {
      "cell_type": "code",
      "source": [
        "#d\n",
        "df = df.sort_values(by=df.columns[0]).reset_index(drop=True)\n",
        "print(\"\\nd. DataFrame sorted on the basis of the first column:\")\n",
        "print(df)"
      ],
      "metadata": {
        "colab": {
          "base_uri": "https://localhost:8080/"
        },
        "id": "qGRD41vBR9CM",
        "outputId": "55802e99-a72c-40f4-bba0-472bac0bade8"
      },
      "execution_count": null,
      "outputs": [
        {
          "output_type": "stream",
          "name": "stdout",
          "text": [
            "\n",
            "d. DataFrame sorted on the basis of the first column:\n",
            "     Column1   Column2   Column3\n",
            "0   0.052093       NaN  0.066741\n",
            "1   0.066517  0.779173  0.374544\n",
            "2   0.095470  0.478395       NaN\n",
            "3   0.100548  0.373563  0.137621\n",
            "4   0.104278  0.706917  0.962627\n",
            "5   0.104882  0.320401  0.891519\n",
            "6   0.129652  0.051261  0.680567\n",
            "7   0.149916  0.698195  0.850444\n",
            "8   0.155636       NaN  0.802028\n",
            "9   0.168378  0.557170  0.489537\n",
            "10  0.179746  0.661873  0.880335\n",
            "11  0.204883  0.341727  0.829721\n",
            "12  0.211626  0.081395  0.734220\n",
            "13  0.234977       NaN  0.015129\n",
            "14  0.299747  0.478717  0.980622\n",
            "15  0.303940  0.345172       NaN\n",
            "16  0.321646  0.192926  0.220307\n",
            "17  0.349484  0.408327  0.290952\n",
            "18  0.404118  0.951634  0.493831\n",
            "19  0.406155  0.930275  0.166535\n",
            "20  0.423678  0.973172       NaN\n",
            "21  0.425202  0.106107  0.143856\n",
            "22  0.426031  0.138184  0.267991\n",
            "23  0.505826  0.467765  0.532039\n",
            "24  0.515780  0.782208  0.276004\n",
            "25  0.524563  0.853662  0.141395\n",
            "26  0.546843  0.863793  0.437292\n",
            "27  0.549075  0.257612  0.046061\n",
            "28  0.567145  0.783945  0.919883\n",
            "29  0.579010  0.739792  0.043529\n",
            "30  0.585886  0.171073  0.153889\n",
            "31  0.625366  0.894839       NaN\n",
            "32  0.661784  0.126078  0.625256\n",
            "33  0.670654  0.625164  0.132360\n",
            "34  0.672448  0.183225  0.752738\n",
            "35  0.754564  0.422554  0.912640\n",
            "36  0.762205       NaN  0.245951\n",
            "37  0.804026  0.686420  0.664571\n",
            "38  0.812705  0.773458       NaN\n",
            "39  0.883875  0.779802  0.046368\n",
            "40  0.913128  0.736072  0.363037\n",
            "41  0.967605  0.559485  0.105401\n",
            "42  0.981236       NaN  0.488671\n",
            "43  0.984476  0.909095  0.266424\n",
            "44       NaN  0.648975  0.476433\n",
            "45       NaN  0.109630  0.404500\n",
            "46       NaN  0.730678  0.766069\n",
            "47       NaN  0.018146  0.504485\n",
            "48       NaN  0.679038  0.676812\n"
          ]
        }
      ]
    },
    {
      "cell_type": "code",
      "source": [
        "#e\n",
        "df = df.drop_duplicates(subset=df.columns[0], ignore_index=True)\n",
        "print(\"\\ne. DataFrame after removing duplicates from the first column:\")\n",
        "print(df)"
      ],
      "metadata": {
        "colab": {
          "base_uri": "https://localhost:8080/"
        },
        "id": "8UZJklfbSIrX",
        "outputId": "3845dc41-6962-4e54-b321-af2eeacf8137"
      },
      "execution_count": null,
      "outputs": [
        {
          "output_type": "stream",
          "name": "stdout",
          "text": [
            "\n",
            "e. DataFrame after removing duplicates from the first column:\n",
            "     Column1   Column2   Column3\n",
            "0   0.052093       NaN  0.066741\n",
            "1   0.066517  0.779173  0.374544\n",
            "2   0.095470  0.478395       NaN\n",
            "3   0.100548  0.373563  0.137621\n",
            "4   0.104278  0.706917  0.962627\n",
            "5   0.104882  0.320401  0.891519\n",
            "6   0.129652  0.051261  0.680567\n",
            "7   0.149916  0.698195  0.850444\n",
            "8   0.155636       NaN  0.802028\n",
            "9   0.168378  0.557170  0.489537\n",
            "10  0.179746  0.661873  0.880335\n",
            "11  0.204883  0.341727  0.829721\n",
            "12  0.211626  0.081395  0.734220\n",
            "13  0.234977       NaN  0.015129\n",
            "14  0.299747  0.478717  0.980622\n",
            "15  0.303940  0.345172       NaN\n",
            "16  0.321646  0.192926  0.220307\n",
            "17  0.349484  0.408327  0.290952\n",
            "18  0.404118  0.951634  0.493831\n",
            "19  0.406155  0.930275  0.166535\n",
            "20  0.423678  0.973172       NaN\n",
            "21  0.425202  0.106107  0.143856\n",
            "22  0.426031  0.138184  0.267991\n",
            "23  0.505826  0.467765  0.532039\n",
            "24  0.515780  0.782208  0.276004\n",
            "25  0.524563  0.853662  0.141395\n",
            "26  0.546843  0.863793  0.437292\n",
            "27  0.549075  0.257612  0.046061\n",
            "28  0.567145  0.783945  0.919883\n",
            "29  0.579010  0.739792  0.043529\n",
            "30  0.585886  0.171073  0.153889\n",
            "31  0.625366  0.894839       NaN\n",
            "32  0.661784  0.126078  0.625256\n",
            "33  0.670654  0.625164  0.132360\n",
            "34  0.672448  0.183225  0.752738\n",
            "35  0.754564  0.422554  0.912640\n",
            "36  0.762205       NaN  0.245951\n",
            "37  0.804026  0.686420  0.664571\n",
            "38  0.812705  0.773458       NaN\n",
            "39  0.883875  0.779802  0.046368\n",
            "40  0.913128  0.736072  0.363037\n",
            "41  0.967605  0.559485  0.105401\n",
            "42  0.981236       NaN  0.488671\n",
            "43  0.984476  0.909095  0.266424\n",
            "44       NaN  0.648975  0.476433\n"
          ]
        }
      ]
    },
    {
      "cell_type": "code",
      "source": [
        "print(\"\\nf. Column names before calculations:\", df.columns)\n",
        "if len(df.columns) >= 3:\n",
        "  correlation = df[df.columns[0]].corr(df[df.columns[1]])\n",
        "  covariance = df[df.columns[1]].cov(df[df.columns[2]])\n",
        "  print(\" Correlation between\", df.columns[0], \"and\", df.columns[1], \":\", correlation)\n",
        "  print(\" Covariance between\", df.columns[1], \"and\", df.columns[2], \":\", covariance)\n",
        "else:\n",
        "  print(\" Insufficient columns to calculate correlation and covariance.\")"
      ],
      "metadata": {
        "colab": {
          "base_uri": "https://localhost:8080/"
        },
        "id": "KyKKQKPXSaQf",
        "outputId": "e43862c3-18f6-4d2c-ab23-71c493393f71"
      },
      "execution_count": null,
      "outputs": [
        {
          "output_type": "stream",
          "name": "stdout",
          "text": [
            "\n",
            "f. Column names before calculations: Index(['Column1', 'Column2', 'Column3'], dtype='object')\n",
            " Correlation between Column1 and Column2 : 0.26354581891039663\n",
            " Covariance between Column2 and Column3 : -0.008760735586406365\n"
          ]
        }
      ]
    },
    {
      "cell_type": "code",
      "source": [
        "#g\n",
        "Q1 = df.quantile(0.25)\n",
        "Q3 = df.quantile(0.75)\n",
        "IQR = Q3 - Q1\n",
        "outliers = ((df < (Q1 - 1.5 * IQR)) | (df > (Q3 + 1.5 * IQR)))\n",
        "df = df[~outliers.any(axis=1)]\n",
        "print(\"\\ng. DataFrame after removing rows with outliers:\")\n",
        "print(df)\n"
      ],
      "metadata": {
        "colab": {
          "base_uri": "https://localhost:8080/"
        },
        "id": "fBOPIXw0Shib",
        "outputId": "0ea5a56e-221a-4f96-c102-5514a867118d"
      },
      "execution_count": null,
      "outputs": [
        {
          "output_type": "stream",
          "name": "stdout",
          "text": [
            "\n",
            "g. DataFrame after removing rows with outliers:\n",
            "     Column1   Column2   Column3\n",
            "0   0.052093       NaN  0.066741\n",
            "1   0.066517  0.779173  0.374544\n",
            "2   0.095470  0.478395       NaN\n",
            "3   0.100548  0.373563  0.137621\n",
            "4   0.104278  0.706917  0.962627\n",
            "5   0.104882  0.320401  0.891519\n",
            "6   0.129652  0.051261  0.680567\n",
            "7   0.149916  0.698195  0.850444\n",
            "8   0.155636       NaN  0.802028\n",
            "9   0.168378  0.557170  0.489537\n",
            "10  0.179746  0.661873  0.880335\n",
            "11  0.204883  0.341727  0.829721\n",
            "12  0.211626  0.081395  0.734220\n",
            "13  0.234977       NaN  0.015129\n",
            "14  0.299747  0.478717  0.980622\n",
            "15  0.303940  0.345172       NaN\n",
            "16  0.321646  0.192926  0.220307\n",
            "17  0.349484  0.408327  0.290952\n",
            "18  0.404118  0.951634  0.493831\n",
            "19  0.406155  0.930275  0.166535\n",
            "20  0.423678  0.973172       NaN\n",
            "21  0.425202  0.106107  0.143856\n",
            "22  0.426031  0.138184  0.267991\n",
            "23  0.505826  0.467765  0.532039\n",
            "24  0.515780  0.782208  0.276004\n",
            "25  0.524563  0.853662  0.141395\n",
            "26  0.546843  0.863793  0.437292\n",
            "27  0.549075  0.257612  0.046061\n",
            "28  0.567145  0.783945  0.919883\n",
            "29  0.579010  0.739792  0.043529\n",
            "30  0.585886  0.171073  0.153889\n",
            "31  0.625366  0.894839       NaN\n",
            "32  0.661784  0.126078  0.625256\n",
            "33  0.670654  0.625164  0.132360\n",
            "34  0.672448  0.183225  0.752738\n",
            "35  0.754564  0.422554  0.912640\n",
            "36  0.762205       NaN  0.245951\n",
            "37  0.804026  0.686420  0.664571\n",
            "38  0.812705  0.773458       NaN\n",
            "39  0.883875  0.779802  0.046368\n",
            "40  0.913128  0.736072  0.363037\n",
            "41  0.967605  0.559485  0.105401\n",
            "42  0.981236       NaN  0.488671\n",
            "43  0.984476  0.909095  0.266424\n",
            "44       NaN  0.648975  0.476433\n"
          ]
        }
      ]
    },
    {
      "cell_type": "code",
      "source": [
        "# h\n",
        "df['Column2_bins'] = pd.cut(df['Column2'], bins=5)\n",
        "print(\"\\nh. DataFrame with second column discretized into 5 bins:\")\n",
        "print(df)"
      ],
      "metadata": {
        "colab": {
          "base_uri": "https://localhost:8080/"
        },
        "id": "aOy_7LmsTRko",
        "outputId": "693f719b-3f4f-4829-e5f0-05ad38931e4e"
      },
      "execution_count": null,
      "outputs": [
        {
          "output_type": "stream",
          "name": "stdout",
          "text": [
            "\n",
            "h. DataFrame with second column discretized into 5 bins:\n",
            "     Column1   Column2   Column3     Column2_bins\n",
            "0   0.052093       NaN  0.066741              NaN\n",
            "1   0.066517  0.779173  0.374544   (0.604, 0.789]\n",
            "2   0.095470  0.478395       NaN    (0.42, 0.604]\n",
            "3   0.100548  0.373563  0.137621    (0.236, 0.42]\n",
            "4   0.104278  0.706917  0.962627   (0.604, 0.789]\n",
            "5   0.104882  0.320401  0.891519    (0.236, 0.42]\n",
            "6   0.129652  0.051261  0.680567  (0.0503, 0.236]\n",
            "7   0.149916  0.698195  0.850444   (0.604, 0.789]\n",
            "8   0.155636       NaN  0.802028              NaN\n",
            "9   0.168378  0.557170  0.489537    (0.42, 0.604]\n",
            "10  0.179746  0.661873  0.880335   (0.604, 0.789]\n",
            "11  0.204883  0.341727  0.829721    (0.236, 0.42]\n",
            "12  0.211626  0.081395  0.734220  (0.0503, 0.236]\n",
            "13  0.234977       NaN  0.015129              NaN\n",
            "14  0.299747  0.478717  0.980622    (0.42, 0.604]\n",
            "15  0.303940  0.345172       NaN    (0.236, 0.42]\n",
            "16  0.321646  0.192926  0.220307  (0.0503, 0.236]\n",
            "17  0.349484  0.408327  0.290952    (0.236, 0.42]\n",
            "18  0.404118  0.951634  0.493831   (0.789, 0.973]\n",
            "19  0.406155  0.930275  0.166535   (0.789, 0.973]\n",
            "20  0.423678  0.973172       NaN   (0.789, 0.973]\n",
            "21  0.425202  0.106107  0.143856  (0.0503, 0.236]\n",
            "22  0.426031  0.138184  0.267991  (0.0503, 0.236]\n",
            "23  0.505826  0.467765  0.532039    (0.42, 0.604]\n",
            "24  0.515780  0.782208  0.276004   (0.604, 0.789]\n",
            "25  0.524563  0.853662  0.141395   (0.789, 0.973]\n",
            "26  0.546843  0.863793  0.437292   (0.789, 0.973]\n",
            "27  0.549075  0.257612  0.046061    (0.236, 0.42]\n",
            "28  0.567145  0.783945  0.919883   (0.604, 0.789]\n",
            "29  0.579010  0.739792  0.043529   (0.604, 0.789]\n",
            "30  0.585886  0.171073  0.153889  (0.0503, 0.236]\n",
            "31  0.625366  0.894839       NaN   (0.789, 0.973]\n",
            "32  0.661784  0.126078  0.625256  (0.0503, 0.236]\n",
            "33  0.670654  0.625164  0.132360   (0.604, 0.789]\n",
            "34  0.672448  0.183225  0.752738  (0.0503, 0.236]\n",
            "35  0.754564  0.422554  0.912640    (0.42, 0.604]\n",
            "36  0.762205       NaN  0.245951              NaN\n",
            "37  0.804026  0.686420  0.664571   (0.604, 0.789]\n",
            "38  0.812705  0.773458       NaN   (0.604, 0.789]\n",
            "39  0.883875  0.779802  0.046368   (0.604, 0.789]\n",
            "40  0.913128  0.736072  0.363037   (0.604, 0.789]\n",
            "41  0.967605  0.559485  0.105401    (0.42, 0.604]\n",
            "42  0.981236       NaN  0.488671              NaN\n",
            "43  0.984476  0.909095  0.266424   (0.789, 0.973]\n",
            "44       NaN  0.648975  0.476433   (0.604, 0.789]\n"
          ]
        }
      ]
    },
    {
      "cell_type": "code",
      "source": [],
      "metadata": {
        "id": "dXQChvxzUASz"
      },
      "execution_count": null,
      "outputs": []
    },
    {
      "cell_type": "markdown",
      "source": [
        "4. Consider two excel files having attendance of a workshop’s participants for two days.\n",
        "Each file has three fields ‘Name’, ‘Time of joining’, duration (in minutes) where names\n",
        "are unique within a file. Note that duration may take one of three values (30, 40, 50)\n",
        "only. Import the data into two dataframes and do the following:\n",
        "\n",
        "a. Perform merging of the two dataframes to find the names of students who had\n",
        "attended the workshop on both days.\n",
        "\n",
        "b. Find names of all students who have attended workshop on either of the days.\n",
        "\n",
        "c. Merge two data frames row-wise and find the total number of records in the data\n",
        "frame.\n",
        "\n",
        "d. Merge two data frames and use two columns names and duration as multi-row\n",
        "indexes. Generate descriptive statistics for this multi-index."
      ],
      "metadata": {
        "id": "yhJ3SfiWUEj6"
      }
    },
    {
      "cell_type": "code",
      "source": [],
      "metadata": {
        "id": "By2pjITMUmUw"
      },
      "execution_count": null,
      "outputs": []
    },
    {
      "cell_type": "markdown",
      "source": [
        "Taking Iris data, plot the following with proper legend and axis labels: (Download IRIS data from:\n",
        "https://archive.ics.uci.edu/ml/datasets/iris or import it from sklearn.datasets)\n",
        "\n",
        "a. Plot bar chart to show the frequency of each class label in the data.\n",
        "\n",
        "b. Draw a scatter plot for Petal width vs sepal width.\n",
        "\n",
        "c. Plot density distribution for feature petal length.\n",
        "\n",
        "d. Use a pair plot to show pairwise bivariate distribution in the Iris Dataset"
      ],
      "metadata": {
        "id": "z9VLVBwOVp9d"
      }
    },
    {
      "cell_type": "markdown",
      "source": [],
      "metadata": {
        "id": "8Vy7XTNrDPyC"
      }
    },
    {
      "cell_type": "markdown",
      "source": [],
      "metadata": {
        "id": "TfqKCCMQDQA_"
      }
    },
    {
      "cell_type": "markdown",
      "source": [
        " Consider any sales training/ weather forecasting dataset\n",
        "a. Compute mean of a series grouped by another series\n",
        "b. Fill an intermittent time series to replace all missing dates with values of previous non-missing date.\n",
        "c. Perform appropriate year-month string to dates conversion.\n",
        "d. Split a dataset to group by two columns and then sort the aggregated results within the groups.\n",
        "e. Split a given dataframe into groups with bin counts.\n"
      ],
      "metadata": {
        "id": "3oKKL0KIDQUB"
      }
    },
    {
      "cell_type": "code",
      "source": [
        "import pandas as pd\n",
        "import numpy as np\n",
        "# Creating a sample dataset\n",
        "data = {\n",
        "'Date': pd.date_range(start='2022-01-01', end='2022-01-10', freq='D').tolist() +\n",
        "pd.date_range(start='2022-01-15', end='2022-01-25', freq='D').tolist(),\n",
        "'Product': ['A'] * 10 + ['B'] * 11,\n",
        "'Sales': [100, 120, 80, 110, 90, np.nan, 130, 150, 140, 120, 200, 180, 160, 190, np.nan, 210, 220, 230, 240, 250, 260]\n",
        "}\n",
        "df = pd.DataFrame(data)\n",
        "# a. Compute mean of a series grouped by another series\n",
        "mean_sales_by_product = df.groupby('Product')['Sales'].mean()\n",
        "print(\"a. Mean sales by product:\")\n",
        "print(mean_sales_by_product)\n",
        "\n",
        "# b. Fill an intermittent time series to replace all missing dates with values of previous non-missing date.\n",
        "df_filled = df.set_index('Date').asfreq('D').ffill()\n",
        "print(\"\\nb. DataFrame after filling missing dates:\")\n",
        "print(df_filled)\n",
        "\n",
        "# c. Perform appropriate year-month string to dates conversion.\n",
        "df['YearMonth'] = pd.to_datetime(df['Date']).dt.to_period('M')\n",
        "print(\"\\nc. DataFrame with YearMonth column:\")\n",
        "print(df)\n",
        "\n",
        "# d. Split a dataset to group by two columns and then sort the aggregated results within the groups.\n",
        "sorted_sales_by_product = df.groupby(['Product', 'YearMonth']).agg({'Sales': 'mean'}).sort_values(by=['Product', 'YearMonth'])\n",
        "print(\"\\nd. Sorted sales by product and year-month:\")\n",
        "print(sorted_sales_by_product)\n",
        "\n",
        "# e. Split a given dataframe into groups with bin counts.\n",
        "bin_counts = 3\n",
        "df['SalesBin'] = pd.cut(df['Sales'], bins=bin_counts)\n",
        "\n",
        "grouped_by_bins = df.groupby('SalesBin')\n",
        "print(\"\\ne. Dataframe split into groups with bin counts:\")\n",
        "for name, group in grouped_by_bins:\n",
        "  print(f\"Bin: {name}\")\n",
        "  print(group)\n",
        "  print(\"\\n\")"
      ],
      "metadata": {
        "id": "-nt1zaQsV3mk",
        "colab": {
          "base_uri": "https://localhost:8080/"
        },
        "outputId": "4324b670-199e-4439-bf6b-b312f72eb521"
      },
      "execution_count": null,
      "outputs": [
        {
          "output_type": "stream",
          "name": "stdout",
          "text": [
            "a. Mean sales by product:\n",
            "Product\n",
            "A    115.555556\n",
            "B    214.000000\n",
            "Name: Sales, dtype: float64\n",
            "\n",
            "b. DataFrame after filling missing dates:\n",
            "           Product  Sales\n",
            "Date                     \n",
            "2022-01-01       A  100.0\n",
            "2022-01-02       A  120.0\n",
            "2022-01-03       A   80.0\n",
            "2022-01-04       A  110.0\n",
            "2022-01-05       A   90.0\n",
            "2022-01-06       A   90.0\n",
            "2022-01-07       A  130.0\n",
            "2022-01-08       A  150.0\n",
            "2022-01-09       A  140.0\n",
            "2022-01-10       A  120.0\n",
            "2022-01-11       A  120.0\n",
            "2022-01-12       A  120.0\n",
            "2022-01-13       A  120.0\n",
            "2022-01-14       A  120.0\n",
            "2022-01-15       B  200.0\n",
            "2022-01-16       B  180.0\n",
            "2022-01-17       B  160.0\n",
            "2022-01-18       B  190.0\n",
            "2022-01-19       B  190.0\n",
            "2022-01-20       B  210.0\n",
            "2022-01-21       B  220.0\n",
            "2022-01-22       B  230.0\n",
            "2022-01-23       B  240.0\n",
            "2022-01-24       B  250.0\n",
            "2022-01-25       B  260.0\n",
            "\n",
            "c. DataFrame with YearMonth column:\n",
            "         Date Product  Sales YearMonth\n",
            "0  2022-01-01       A  100.0   2022-01\n",
            "1  2022-01-02       A  120.0   2022-01\n",
            "2  2022-01-03       A   80.0   2022-01\n",
            "3  2022-01-04       A  110.0   2022-01\n",
            "4  2022-01-05       A   90.0   2022-01\n",
            "5  2022-01-06       A    NaN   2022-01\n",
            "6  2022-01-07       A  130.0   2022-01\n",
            "7  2022-01-08       A  150.0   2022-01\n",
            "8  2022-01-09       A  140.0   2022-01\n",
            "9  2022-01-10       A  120.0   2022-01\n",
            "10 2022-01-15       B  200.0   2022-01\n",
            "11 2022-01-16       B  180.0   2022-01\n",
            "12 2022-01-17       B  160.0   2022-01\n",
            "13 2022-01-18       B  190.0   2022-01\n",
            "14 2022-01-19       B    NaN   2022-01\n",
            "15 2022-01-20       B  210.0   2022-01\n",
            "16 2022-01-21       B  220.0   2022-01\n",
            "17 2022-01-22       B  230.0   2022-01\n",
            "18 2022-01-23       B  240.0   2022-01\n",
            "19 2022-01-24       B  250.0   2022-01\n",
            "20 2022-01-25       B  260.0   2022-01\n",
            "\n",
            "d. Sorted sales by product and year-month:\n",
            "                        Sales\n",
            "Product YearMonth            \n",
            "A       2022-01    115.555556\n",
            "B       2022-01    214.000000\n",
            "\n",
            "e. Dataframe split into groups with bin counts:\n",
            "Bin: (79.82, 140.0]\n",
            "        Date Product  Sales YearMonth        SalesBin\n",
            "0 2022-01-01       A  100.0   2022-01  (79.82, 140.0]\n",
            "1 2022-01-02       A  120.0   2022-01  (79.82, 140.0]\n",
            "2 2022-01-03       A   80.0   2022-01  (79.82, 140.0]\n",
            "3 2022-01-04       A  110.0   2022-01  (79.82, 140.0]\n",
            "4 2022-01-05       A   90.0   2022-01  (79.82, 140.0]\n",
            "6 2022-01-07       A  130.0   2022-01  (79.82, 140.0]\n",
            "8 2022-01-09       A  140.0   2022-01  (79.82, 140.0]\n",
            "9 2022-01-10       A  120.0   2022-01  (79.82, 140.0]\n",
            "\n",
            "\n",
            "Bin: (140.0, 200.0]\n",
            "         Date Product  Sales YearMonth        SalesBin\n",
            "7  2022-01-08       A  150.0   2022-01  (140.0, 200.0]\n",
            "10 2022-01-15       B  200.0   2022-01  (140.0, 200.0]\n",
            "11 2022-01-16       B  180.0   2022-01  (140.0, 200.0]\n",
            "12 2022-01-17       B  160.0   2022-01  (140.0, 200.0]\n",
            "13 2022-01-18       B  190.0   2022-01  (140.0, 200.0]\n",
            "\n",
            "\n",
            "Bin: (200.0, 260.0]\n",
            "         Date Product  Sales YearMonth        SalesBin\n",
            "15 2022-01-20       B  210.0   2022-01  (200.0, 260.0]\n",
            "16 2022-01-21       B  220.0   2022-01  (200.0, 260.0]\n",
            "17 2022-01-22       B  230.0   2022-01  (200.0, 260.0]\n",
            "18 2022-01-23       B  240.0   2022-01  (200.0, 260.0]\n",
            "19 2022-01-24       B  250.0   2022-01  (200.0, 260.0]\n",
            "20 2022-01-25       B  260.0   2022-01  (200.0, 260.0]\n",
            "\n",
            "\n"
          ]
        }
      ]
    },
    {
      "cell_type": "code",
      "source": [],
      "metadata": {
        "id": "Yu334PGtDXkQ"
      },
      "execution_count": null,
      "outputs": []
    },
    {
      "cell_type": "markdown",
      "source": [
        "7. Consider a data frame containing data about students i.e. name, gender and passing division:\n",
        "\n",
        "a. Perform one hot encoding of the last two columns of categorical data using the get_dummies() function.\n",
        "b. Sort this data frame on the “Birth Month” column (i.e. January to December). Hint: Convert Month to\n",
        "Categorical."
      ],
      "metadata": {
        "id": "xBiOFY30DnAt"
      }
    },
    {
      "cell_type": "code",
      "source": [
        "import pandas as pd\n",
        "# Your provided data\n",
        "data = {\n",
        "'Name': ['Mudit Chauhan', 'Seema Chopra', 'Rani Gupta', 'Aditya Narayan', 'Sanjeev Sahni','Prakash Kumar', 'Ritu Agarwal', 'Akshay Goel', 'Meeta Kulkarni', 'Preeti Ahuja','Sunil Das Gupta', 'Sonali Sapre', 'Rashmi Talwar', 'Ashish Dubey', 'Kiran Sharma', 'Sameer Bansal'],\n",
        "'Birth_Month': ['December', 'January', 'March', 'October', 'February', 'December','September','August', 'July', 'November', 'April', 'January', 'June', 'May', 'February',\n",
        "'October'],\n",
        "'Gender': ['M', 'F', 'F', 'M', 'M', 'M', 'F', 'M', 'F', 'F', 'M', 'F', 'F', 'M', 'F', 'M'],\n",
        "'Pass_Division': ['III', 'II', 'I', 'I', 'II', 'III', 'I', 'I', 'II', 'II', 'III', 'I', 'III', 'II', 'II', 'I']\n",
        "}\n",
        "\n",
        "df = pd.DataFrame(data)\n",
        "# a. Perform one hot encoding of the last two columns of categorical data using the get_dummies() function.\n",
        "df_encoded = pd.get_dummies(df, columns=['Gender', 'Pass_Division'])\n",
        "\n",
        "# b. Sort this data frame on the “Birth Month” column.\n",
        "# Convert 'Birth_Month' to Categorical with custom order\n",
        "month_order = ['January', 'February', 'March', 'April', 'May', 'June', 'July', 'August','September', 'October', 'November', 'December']\n",
        "df_encoded['Birth_Month'] = pd.Categorical(df_encoded['Birth_Month'],categories=month_order, ordered=True)\n",
        "\n",
        "# Sort the DataFrame based on 'Birth_Month'\n",
        "df_sorted = df_encoded.sort_values(by='Birth_Month')\n",
        "# Display the results\n",
        "print(\"a. DataFrame after one-hot encoding:\")\n",
        "print(df_encoded)\n",
        "print(\"\\nb. DataFrame sorted on the 'Birth Month' column:\")\n",
        "print(df_sorted)"
      ],
      "metadata": {
        "colab": {
          "base_uri": "https://localhost:8080/"
        },
        "id": "_Vp1t8C6DnW-",
        "outputId": "7eae229f-255c-495a-ad18-955edf1acf95"
      },
      "execution_count": null,
      "outputs": [
        {
          "output_type": "stream",
          "name": "stdout",
          "text": [
            "a. DataFrame after one-hot encoding:\n",
            "               Name Birth_Month  Gender_F  Gender_M  Pass_Division_I  \\\n",
            "0     Mudit Chauhan    December         0         1                0   \n",
            "1      Seema Chopra     January         1         0                0   \n",
            "2        Rani Gupta       March         1         0                1   \n",
            "3    Aditya Narayan     October         0         1                1   \n",
            "4     Sanjeev Sahni    February         0         1                0   \n",
            "5     Prakash Kumar    December         0         1                0   \n",
            "6      Ritu Agarwal   September         1         0                1   \n",
            "7       Akshay Goel      August         0         1                1   \n",
            "8    Meeta Kulkarni        July         1         0                0   \n",
            "9      Preeti Ahuja    November         1         0                0   \n",
            "10  Sunil Das Gupta       April         0         1                0   \n",
            "11     Sonali Sapre     January         1         0                1   \n",
            "12    Rashmi Talwar        June         1         0                0   \n",
            "13     Ashish Dubey         May         0         1                0   \n",
            "14     Kiran Sharma    February         1         0                0   \n",
            "15    Sameer Bansal     October         0         1                1   \n",
            "\n",
            "    Pass_Division_II  Pass_Division_III  \n",
            "0                  0                  1  \n",
            "1                  1                  0  \n",
            "2                  0                  0  \n",
            "3                  0                  0  \n",
            "4                  1                  0  \n",
            "5                  0                  1  \n",
            "6                  0                  0  \n",
            "7                  0                  0  \n",
            "8                  1                  0  \n",
            "9                  1                  0  \n",
            "10                 0                  1  \n",
            "11                 0                  0  \n",
            "12                 0                  1  \n",
            "13                 1                  0  \n",
            "14                 1                  0  \n",
            "15                 0                  0  \n",
            "\n",
            "b. DataFrame sorted on the 'Birth Month' column:\n",
            "               Name Birth_Month  Gender_F  Gender_M  Pass_Division_I  \\\n",
            "1      Seema Chopra     January         1         0                0   \n",
            "11     Sonali Sapre     January         1         0                1   \n",
            "4     Sanjeev Sahni    February         0         1                0   \n",
            "14     Kiran Sharma    February         1         0                0   \n",
            "2        Rani Gupta       March         1         0                1   \n",
            "10  Sunil Das Gupta       April         0         1                0   \n",
            "13     Ashish Dubey         May         0         1                0   \n",
            "12    Rashmi Talwar        June         1         0                0   \n",
            "8    Meeta Kulkarni        July         1         0                0   \n",
            "7       Akshay Goel      August         0         1                1   \n",
            "6      Ritu Agarwal   September         1         0                1   \n",
            "3    Aditya Narayan     October         0         1                1   \n",
            "15    Sameer Bansal     October         0         1                1   \n",
            "9      Preeti Ahuja    November         1         0                0   \n",
            "0     Mudit Chauhan    December         0         1                0   \n",
            "5     Prakash Kumar    December         0         1                0   \n",
            "\n",
            "    Pass_Division_II  Pass_Division_III  \n",
            "1                  1                  0  \n",
            "11                 0                  0  \n",
            "4                  1                  0  \n",
            "14                 1                  0  \n",
            "2                  0                  0  \n",
            "10                 0                  1  \n",
            "13                 1                  0  \n",
            "12                 0                  1  \n",
            "8                  1                  0  \n",
            "7                  0                  0  \n",
            "6                  0                  0  \n",
            "3                  0                  0  \n",
            "15                 0                  0  \n",
            "9                  1                  0  \n",
            "0                  0                  1  \n",
            "5                  0                  1  \n"
          ]
        }
      ]
    },
    {
      "cell_type": "markdown",
      "source": [
        "8. Consider the following data frame containing a family name, gender of the family member and her/his monthly\n",
        "income in each record.\n",
        "Name Gender MonthlyIncome (Rs.)\n",
        "Shah Male 114000.00\n",
        "Vats Male 65000.00\n",
        "Vats Female 43150.00\n",
        "Kumar Female 69500.00\n",
        "Vats Female 155000.00\n",
        "Kumar Male 103000.00\n",
        "Shah Male 55000.00\n",
        "Shah Female 112400.00\n",
        "Kumar Female 81030.00\n",
        "Vats Male 71900.00\n",
        "Write a program in Python using Pandas to perform the following:\n",
        "a. Calculate and display familywise gross monthly income.\n",
        "b. Calculate and display the member with the highest monthly income in a family.\n",
        "c. Calculate and display monthly income of all members with income greater than Rs. 60000.00.\n",
        "d. Calculate and display the average monthly income of the female members in the Shah family.\n"
      ],
      "metadata": {
        "id": "Nd0Vy2fEYP1w"
      }
    },
    {
      "cell_type": "code",
      "source": [
        "import pandas as pd\n",
        "\n",
        "# Your provided data\n",
        "data = {\n",
        "'Name': ['Shah', 'Vats', 'Vats', 'Kumar', 'Vats', 'Kumar',\n",
        "'Shah', 'Shah', 'Kumar', 'Vats'],\n",
        "'Gender': ['Male', 'Male', 'Female', 'Female', 'Female',\n",
        "'Male', 'Male', 'Female', 'Female', 'Male'],\n",
        "'MonthlyIncome': [114000.00, 65000.00, 43150.00, 69500.00,155000.00, 103000.00, 55000.00, 112400.00, 81030.00, 71900.00]\n",
        "}\n",
        "\n",
        "df = pd.DataFrame(data)\n",
        "\n",
        "# a. Calculate and display familywise gross monthly income.\n",
        "familywise_income = df.groupby('Name')['MonthlyIncome'].sum()\n",
        "print(\"a. Familywise Gross Monthly Income:\")\n",
        "print(familywise_income)\n",
        "\n",
        "# b. Calculate and display the member with the highest monthly income in a family.\n",
        "max_income_member =df.loc[df.groupby('Name')['MonthlyIncome'].idxmax()]\n",
        "print(\"\\nb. Member with the Highest Monthly Income in Each Family:\")\n",
        "print(max_income_member)\n",
        "\n",
        "# c. Calculate and display monthly income of all members with income greater than Rs. 60000.00.\n",
        "high_income_members = df[df['MonthlyIncome'] > 60000.00]\n",
        "print(\"\\nc. Monthly Income of Members with Income Greater Than Rs. 60000.00:\")\n",
        "print(high_income_members)\n",
        "\n",
        "# d. Calculate and display the average monthly income of the female members in the Shah family.\n",
        "\n",
        "average_income_shah_females = df[(df['Name'] == 'Shah') & (df['Gender'] == 'Female')]['MonthlyIncome'].mean()\n",
        "print(\"\\nd. Average Monthly Income of Female Members in the Shah Family:\")\n",
        "print(average_income_shah_females)"
      ],
      "metadata": {
        "colab": {
          "base_uri": "https://localhost:8080/"
        },
        "id": "YNTG8qXmDpIN",
        "outputId": "bd26ef64-69b7-49c4-cbe9-f9d7e1b2a8fc"
      },
      "execution_count": null,
      "outputs": [
        {
          "output_type": "stream",
          "name": "stdout",
          "text": [
            "a. Familywise Gross Monthly Income:\n",
            "Name\n",
            "Kumar    253530.0\n",
            "Shah     281400.0\n",
            "Vats     335050.0\n",
            "Name: MonthlyIncome, dtype: float64\n",
            "\n",
            "b. Member with the Highest Monthly Income in Each Family:\n",
            "    Name  Gender  MonthlyIncome\n",
            "5  Kumar    Male       103000.0\n",
            "0   Shah    Male       114000.0\n",
            "4   Vats  Female       155000.0\n",
            "\n",
            "c. Monthly Income of Members with Income Greater Than Rs. 60000.00:\n",
            "    Name  Gender  MonthlyIncome\n",
            "0   Shah    Male       114000.0\n",
            "1   Vats    Male        65000.0\n",
            "3  Kumar  Female        69500.0\n",
            "4   Vats  Female       155000.0\n",
            "5  Kumar    Male       103000.0\n",
            "7   Shah  Female       112400.0\n",
            "8  Kumar  Female        81030.0\n",
            "9   Vats    Male        71900.0\n",
            "\n",
            "d. Average Monthly Income of Female Members in the Shah Family:\n",
            "112400.0\n"
          ]
        }
      ]
    },
    {
      "cell_type": "code",
      "source": [],
      "metadata": {
        "id": "spKyZUNyEmc8"
      },
      "execution_count": null,
      "outputs": []
    }
  ]
}